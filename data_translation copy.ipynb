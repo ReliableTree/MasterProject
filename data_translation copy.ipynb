{
 "cells": [
  {
   "cell_type": "code",
   "execution_count": 1,
   "metadata": {},
   "outputs": [
    {
     "name": "stderr",
     "output_type": "stream",
     "text": [
      "/home/hendrik/anaconda3/envs/ac/lib/python3.10/site-packages/tqdm/auto.py:22: TqdmWarning: IProgress not found. Please update jupyter and ipywidgets. See https://ipywidgets.readthedocs.io/en/stable/user_install.html\n",
      "  from .autonotebook import tqdm as notebook_tqdm\n"
     ]
    }
   ],
   "source": [
    "import torch as th\n",
    "import torch\n",
    "import torch.nn as nn\n",
    "import time\n",
    "import math\n",
    "import copy"
   ]
  },
  {
   "cell_type": "code",
   "execution_count": 2,
   "metadata": {},
   "outputs": [],
   "source": [
    "class TCNN(th.nn.Module):\n",
    "    def __init__(self, seq_len, channels, ntoken) -> None:\n",
    "        super().__init__()\n",
    "        self.model = th.nn.Sequential()\n",
    "        self.encoder = nn.Embedding(ntoken, channels[0])\n",
    "        self.decoder = nn.Linear(channels[-1], ntoken)\n",
    "        for i in range(len(channels)-1):\n",
    "            self.model.append(th.nn.Conv1d(channels[i], channels[i+1], kernel_size=seq_len, stride=1, padding='same'))\n",
    "            if i < len(channels) - 2:\n",
    "                self.model.append(th.nn.BatchNorm1d(num_features=channels[i+1]))\n",
    "                self.model.append(th.nn.ReLU())\n",
    "    \n",
    "    def forward(self, input:th.Tensor):\n",
    "        embedded = self.encoder.forward(input)\n",
    "        embedded = embedded.permute(1,2,0)\n",
    "        internal_result = self.model.forward(embedded)\n",
    "        internal_result = internal_result.permute(2,0,1)\n",
    "        result = self.decoder(internal_result)\n",
    "        return result"
   ]
  },
  {
   "cell_type": "code",
   "execution_count": 3,
   "metadata": {},
   "outputs": [],
   "source": [
    "class TMLP(th.nn.Module):\n",
    "    def __init__(self, seq_len, arch, ntoken) -> None:\n",
    "        super().__init__()\n",
    "        self.model = th.nn.Sequential()\n",
    "        self.encoder = nn.Embedding(ntoken, arch[0])\n",
    "        self.decoder = nn.Linear(arch[-1], ntoken)\n",
    "        arch[0] *= seq_len\n",
    "        arch[-1]*= seq_len\n",
    "        for i in range(len(arch)-1):\n",
    "            self.model.append(th.nn.Linear(arch[i], arch[i+1]))\n",
    "            if i < len(arch) - 2:\n",
    "                self.model.append(th.nn.BatchNorm1d(num_features=arch[i+1]))\n",
    "                self.model.append(th.nn.ReLU())\n",
    "    \n",
    "    def forward(self, input:th.Tensor):\n",
    "        \n",
    "        embedded = self.encoder.forward(input)\n",
    "        init_shape = embedded.shape\n",
    "\n",
    "        #seq, batch, dim\n",
    "        embedded = embedded.transpose(0,1)\n",
    "\n",
    "        #batch seq dim\n",
    "        embedded = embedded.reshape([embedded.shape[0], -1])\n",
    "\n",
    "        #batch seq*dim\n",
    "        internal_result = self.model.forward(embedded)\n",
    "        internal_result = internal_result.reshape([init_shape[1], init_shape[0], init_shape[-1]])\n",
    "\n",
    "        #batch seq dim\n",
    "        internal_result = internal_result.transpose(0,1)\n",
    "\n",
    "        #seq, batch, dim\n",
    "        result = self.decoder(internal_result)\n",
    "        return result"
   ]
  },
  {
   "cell_type": "code",
   "execution_count": 4,
   "metadata": {},
   "outputs": [],
   "source": [
    "seq_len = 5\n",
    "batch_size = 2\n",
    "ntoken=100\n",
    "\n",
    "tmlt = TMLP(seq_len=seq_len, arch=[5, 5, 5], ntoken=ntoken)\n",
    "\n",
    "inpt = th.randint(0, ntoken, [seq_len, batch_size])\n",
    "result = tmlt.forward(inpt)"
   ]
  },
  {
   "cell_type": "code",
   "execution_count": 5,
   "metadata": {},
   "outputs": [
    {
     "data": {
      "text/plain": [
       "TMLP(\n",
       "  (model): Sequential(\n",
       "    (0): Linear(in_features=25, out_features=5, bias=True)\n",
       "    (1): BatchNorm1d(5, eps=1e-05, momentum=0.1, affine=True, track_running_stats=True)\n",
       "    (2): ReLU()\n",
       "    (3): Linear(in_features=5, out_features=25, bias=True)\n",
       "  )\n",
       "  (encoder): Embedding(100, 5)\n",
       "  (decoder): Linear(in_features=5, out_features=100, bias=True)\n",
       ")"
      ]
     },
     "execution_count": 5,
     "metadata": {},
     "output_type": "execute_result"
    }
   ],
   "source": [
    "tmlt"
   ]
  },
  {
   "cell_type": "code",
   "execution_count": 36,
   "metadata": {},
   "outputs": [],
   "source": [
    "from torchtext.datasets import WikiText2\n",
    "from torchtext.data.utils import get_tokenizer\n",
    "from torchtext.vocab import build_vocab_from_iterator\n",
    "\n",
    "train_iter = WikiText2(split='train')\n",
    "tokenizer = get_tokenizer('basic_english')\n",
    "vocab = build_vocab_from_iterator(map(tokenizer, train_iter), specials=['<unk>'])\n",
    "vocab.set_default_index(vocab['<unk>'])\n",
    "\n",
    "def data_process(raw_text_iter):\n",
    "    \"\"\"Converts raw text into a flat Tensor.\"\"\"\n",
    "    data = [torch.tensor(vocab(tokenizer(item)), dtype=torch.long) for item in raw_text_iter]\n",
    "    return torch.cat(tuple(filter(lambda t: t.numel() > 0, data)))\n",
    "\n",
    "# train_iter was \"consumed\" by the process of building the vocab,\n",
    "# so we have to create it again\n",
    "train_iter, val_iter, test_iter = WikiText2()\n",
    "train_data = data_process(train_iter)\n",
    "val_data = data_process(val_iter)\n",
    "test_data = data_process(test_iter)\n",
    "\n",
    "device = torch.device('cuda' if torch.cuda.is_available() else 'cpu')\n",
    "\n",
    "def batchify(data, bsz: int):\n",
    "    \"\"\"Divides the data into bsz separate sequences, removing extra elements\n",
    "    that wouldn't cleanly fit.\n",
    "\n",
    "    Args:\n",
    "        data: Tensor, shape [N]\n",
    "        bsz: int, batch size\n",
    "\n",
    "    Returns:\n",
    "        Tensor of shape [N // bsz, bsz]\n",
    "    \"\"\"\n",
    "    seq_len = data.size(0) // bsz\n",
    "    data = data[:seq_len * bsz]\n",
    "    data = data.view(bsz, seq_len).t().contiguous()\n",
    "    return data.to(device)\n",
    "\n",
    "batch_size = 20\n",
    "eval_batch_size = 10\n",
    "train_data = batchify(train_data, batch_size).to('cuda')  # shape [seq_len, batch_size]\n",
    "val_data = batchify(val_data, eval_batch_size).to('cuda')\n",
    "test_data = batchify(test_data, eval_batch_size).to('cuda')\n",
    "\n",
    "bptt = 35\n",
    "def get_batch(source, i: int):\n",
    "    \"\"\"\n",
    "    Args:\n",
    "        source: Tensor, shape [full_seq_len, batch_size]\n",
    "        i: int\n",
    "\n",
    "    Returns:\n",
    "        tuple (data, target), where data has shape [seq_len, batch_size] and\n",
    "        target has shape [seq_len * batch_size]\n",
    "    \"\"\"\n",
    "    seq_len = min(bptt, len(source) - 1 - i)\n",
    "    data = source[i:i+seq_len]\n",
    "    target = source[i+1:i+1+seq_len]\n",
    "    return data, target"
   ]
  },
  {
   "cell_type": "code",
   "execution_count": 37,
   "metadata": {},
   "outputs": [],
   "source": [
    "data, targets = get_batch(train_data, 0)"
   ]
  },
  {
   "cell_type": "code",
   "execution_count": 38,
   "metadata": {},
   "outputs": [
    {
     "data": {
      "text/plain": [
       "torch.Size([35, 20])"
      ]
     },
     "execution_count": 38,
     "metadata": {},
     "output_type": "execute_result"
    }
   ],
   "source": [
    "data.shape"
   ]
  },
  {
   "cell_type": "code",
   "execution_count": 39,
   "metadata": {},
   "outputs": [
    {
     "data": {
      "text/plain": [
       "torch.Size([35, 20])"
      ]
     },
     "execution_count": 39,
     "metadata": {},
     "output_type": "execute_result"
    }
   ],
   "source": [
    "targets.shape"
   ]
  },
  {
   "cell_type": "code",
   "execution_count": 20,
   "metadata": {},
   "outputs": [],
   "source": [
    "batch_size = 2\n",
    "seq_len = bptt\n",
    "dim = 3\n",
    "ntokens = len(vocab)  # size of vocabulary\n",
    "inpt = th.ones([batch_size, dim, seq_len])\n",
    "model = TMLP(seq_len=seq_len, arch=[180, 180, 180], ntoken=ntokens)"
   ]
  },
  {
   "cell_type": "code",
   "execution_count": 21,
   "metadata": {},
   "outputs": [
    {
     "data": {
      "text/plain": [
       "12665142"
      ]
     },
     "execution_count": 21,
     "metadata": {},
     "output_type": "execute_result"
    }
   ],
   "source": [
    "def count_parameters(model):\n",
    "    return sum(p.numel() for p in model.parameters() if p.requires_grad)\n",
    "\n",
    "count_parameters(model=model)"
   ]
  },
  {
   "cell_type": "code",
   "execution_count": 22,
   "metadata": {},
   "outputs": [],
   "source": [
    "model = model.to('cuda')"
   ]
  },
  {
   "cell_type": "code",
   "execution_count": 26,
   "metadata": {},
   "outputs": [],
   "source": [
    "data, targets = get_batch(train_data,0)"
   ]
  },
  {
   "cell_type": "code",
   "execution_count": 28,
   "metadata": {},
   "outputs": [
    {
     "data": {
      "text/plain": [
       "torch.Size([35, 20])"
      ]
     },
     "execution_count": 28,
     "metadata": {},
     "output_type": "execute_result"
    }
   ],
   "source": [
    "data.shape"
   ]
  },
  {
   "cell_type": "code",
   "execution_count": 30,
   "metadata": {},
   "outputs": [],
   "source": [
    "targets = targets.reshape([35, 20])"
   ]
  },
  {
   "cell_type": "code",
   "execution_count": 32,
   "metadata": {},
   "outputs": [
    {
     "data": {
      "text/plain": [
       "tensor([ 3849,    12,   300,  6302,  3989,  1930, 10559,   451,     4,     7,\n",
       "            2,  1511, 10115,   942,  2439,   572,     1,    47,    30,  1990],\n",
       "       device='cuda:0')"
      ]
     },
     "execution_count": 32,
     "metadata": {},
     "output_type": "execute_result"
    }
   ],
   "source": [
    "data[1]"
   ]
  },
  {
   "cell_type": "code",
   "execution_count": 33,
   "metadata": {},
   "outputs": [
    {
     "data": {
      "text/plain": [
       "tensor([ 3849,    12,   300,  6302,  3989,  1930, 10559,   451,     4,     7,\n",
       "            2,  1511, 10115,   942,  2439,   572,     1,    47,    30,  1990],\n",
       "       device='cuda:0')"
      ]
     },
     "execution_count": 33,
     "metadata": {},
     "output_type": "execute_result"
    }
   ],
   "source": [
    "targets[0]"
   ]
  },
  {
   "cell_type": "code",
   "execution_count": 42,
   "metadata": {},
   "outputs": [],
   "source": [
    "criterion = nn.CrossEntropyLoss()\n",
    "lr = 1e-3  # learning rate\n",
    "optimizer = torch.optim.Adam(model.parameters(), lr=lr)\n",
    "#scheduler = torch.optim.lr_scheduler.StepLR(optimizer, 1.0, gamma=0.95)\n",
    "\n",
    "def train(model: nn.Module) -> None:\n",
    "    model.train()  # turn on train mode\n",
    "    total_loss = 0.\n",
    "    log_interval = 200\n",
    "    start_time = time.time()\n",
    "    \n",
    "    num_batches = len(train_data) // bptt\n",
    "    for batch, i in enumerate(range(0, train_data.size(0) - 1, bptt)):\n",
    "        data, targets = get_batch(train_data, i)\n",
    "        seq_len = data.size(0)\n",
    "        if seq_len != bptt:  # only on last batch\n",
    "            break\n",
    "        output = model.forward(data)\n",
    "        loss = criterion(output[-1].view(-1, ntokens), targets[-1])\n",
    "\n",
    "        optimizer.zero_grad()\n",
    "        loss.backward()\n",
    "        torch.nn.utils.clip_grad_norm_(model.parameters(), 0.5)\n",
    "        optimizer.step()\n",
    "\n",
    "        total_loss += loss.item()\n",
    "        if batch % log_interval == 0 and batch > 0:\n",
    "            #lr = scheduler.get_last_lr()[0]\n",
    "            ms_per_batch = (time.time() - start_time) * 1000 / log_interval\n",
    "            cur_loss = total_loss / log_interval\n",
    "            ppl = math.exp(cur_loss)\n",
    "            print(f'| epoch {epoch:3d} | {batch:5d}/{num_batches:5d} batches | '\n",
    "                  f'lr {lr:02.2f} | ms/batch {ms_per_batch:5.2f} | '\n",
    "                  f'loss {cur_loss:5.2f} | ppl {ppl:8.2f}')\n",
    "            total_loss = 0\n",
    "            start_time = time.time()\n",
    "\n",
    "def evaluate(model: nn.Module, eval_data) -> float:\n",
    "    model.eval()  # turn on evaluation mode\n",
    "    total_loss = 0.\n",
    "    with torch.no_grad():\n",
    "        for i in range(0, eval_data.size(0) - 1, bptt):\n",
    "            data, targets = get_batch(eval_data, i)\n",
    "            seq_len = data.size(0)\n",
    "            if seq_len != bptt:\n",
    "                break\n",
    "            output = model(data)\n",
    "            output_flat = output[-1].view(-1, ntokens)\n",
    "            total_loss += seq_len * criterion(output_flat, targets[-1]).item()\n",
    "    return total_loss / (len(eval_data) - 1)"
   ]
  },
  {
   "cell_type": "code",
   "execution_count": 43,
   "metadata": {},
   "outputs": [
    {
     "name": "stdout",
     "output_type": "stream",
     "text": [
      "| epoch   1 |   200/ 2928 batches | lr 0.00 | ms/batch 14.42 | loss  6.56 | ppl   704.40\n",
      "| epoch   1 |   400/ 2928 batches | lr 0.00 | ms/batch 14.09 | loss  6.89 | ppl   986.79\n",
      "| epoch   1 |   600/ 2928 batches | lr 0.00 | ms/batch 14.13 | loss  6.74 | ppl   848.07\n",
      "| epoch   1 |   800/ 2928 batches | lr 0.00 | ms/batch 14.09 | loss  6.90 | ppl   994.60\n",
      "| epoch   1 |  1000/ 2928 batches | lr 0.00 | ms/batch 14.16 | loss  6.84 | ppl   934.53\n",
      "| epoch   1 |  1200/ 2928 batches | lr 0.00 | ms/batch 14.19 | loss  6.92 | ppl  1015.55\n",
      "| epoch   1 |  1400/ 2928 batches | lr 0.00 | ms/batch 14.11 | loss  6.88 | ppl   970.41\n",
      "| epoch   1 |  1600/ 2928 batches | lr 0.00 | ms/batch 14.14 | loss  6.93 | ppl  1023.11\n",
      "| epoch   1 |  1800/ 2928 batches | lr 0.00 | ms/batch 14.06 | loss  6.82 | ppl   916.53\n",
      "| epoch   1 |  2000/ 2928 batches | lr 0.00 | ms/batch 14.03 | loss  6.99 | ppl  1087.50\n",
      "| epoch   1 |  2200/ 2928 batches | lr 0.00 | ms/batch 14.04 | loss  6.85 | ppl   947.08\n",
      "| epoch   1 |  2400/ 2928 batches | lr 0.00 | ms/batch 14.14 | loss  6.84 | ppl   929.88\n",
      "| epoch   1 |  2600/ 2928 batches | lr 0.00 | ms/batch 14.18 | loss  6.84 | ppl   931.35\n",
      "| epoch   1 |  2800/ 2928 batches | lr 0.00 | ms/batch 14.16 | loss  6.59 | ppl   726.90\n",
      "-----------------------------------------------------------------------------------------\n",
      "| end of epoch   1 | time: 42.28s | valid loss  6.86 | valid ppl   955.02\n",
      "-----------------------------------------------------------------------------------------\n",
      "| epoch   2 |   200/ 2928 batches | lr 0.00 | ms/batch 14.37 | loss  4.94 | ppl   140.35\n",
      "| epoch   2 |   400/ 2928 batches | lr 0.00 | ms/batch 14.17 | loss  5.04 | ppl   154.01\n",
      "| epoch   2 |   600/ 2928 batches | lr 0.00 | ms/batch 14.21 | loss  4.95 | ppl   141.06\n",
      "| epoch   2 |   800/ 2928 batches | lr 0.00 | ms/batch 14.14 | loss  4.97 | ppl   143.82\n",
      "| epoch   2 |  1000/ 2928 batches | lr 0.00 | ms/batch 14.11 | loss  4.96 | ppl   143.02\n",
      "| epoch   2 |  1200/ 2928 batches | lr 0.00 | ms/batch 14.16 | loss  4.99 | ppl   147.10\n",
      "| epoch   2 |  1400/ 2928 batches | lr 0.00 | ms/batch 14.09 | loss  4.93 | ppl   138.91\n",
      "| epoch   2 |  1600/ 2928 batches | lr 0.00 | ms/batch 13.99 | loss  5.08 | ppl   160.42\n",
      "| epoch   2 |  1800/ 2928 batches | lr 0.00 | ms/batch 14.20 | loss  4.96 | ppl   142.99\n",
      "| epoch   2 |  2000/ 2928 batches | lr 0.00 | ms/batch 14.15 | loss  5.12 | ppl   167.15\n",
      "| epoch   2 |  2200/ 2928 batches | lr 0.00 | ms/batch 14.20 | loss  5.14 | ppl   170.44\n",
      "| epoch   2 |  2400/ 2928 batches | lr 0.00 | ms/batch 14.21 | loss  5.01 | ppl   149.30\n",
      "| epoch   2 |  2600/ 2928 batches | lr 0.00 | ms/batch 14.18 | loss  4.96 | ppl   143.08\n",
      "| epoch   2 |  2800/ 2928 batches | lr 0.00 | ms/batch 14.28 | loss  4.79 | ppl   120.61\n",
      "-----------------------------------------------------------------------------------------\n",
      "| end of epoch   2 | time: 42.39s | valid loss  7.59 | valid ppl  1975.89\n",
      "-----------------------------------------------------------------------------------------\n",
      "| epoch   3 |   200/ 2928 batches | lr 0.00 | ms/batch 14.36 | loss  3.40 | ppl    29.86\n",
      "| epoch   3 |   400/ 2928 batches | lr 0.00 | ms/batch 14.20 | loss  3.19 | ppl    24.25\n",
      "| epoch   3 |   600/ 2928 batches | lr 0.00 | ms/batch 14.18 | loss  3.09 | ppl    21.99\n",
      "| epoch   3 |   800/ 2928 batches | lr 0.00 | ms/batch 14.17 | loss  2.93 | ppl    18.67\n",
      "| epoch   3 |  1000/ 2928 batches | lr 0.00 | ms/batch 14.05 | loss  2.91 | ppl    18.31\n",
      "| epoch   3 |  1200/ 2928 batches | lr 0.00 | ms/batch 14.13 | loss  2.94 | ppl    18.91\n",
      "| epoch   3 |  1400/ 2928 batches | lr 0.00 | ms/batch 14.13 | loss  2.87 | ppl    17.57\n",
      "| epoch   3 |  1600/ 2928 batches | lr 0.00 | ms/batch 14.19 | loss  3.06 | ppl    21.43\n",
      "| epoch   3 |  1800/ 2928 batches | lr 0.00 | ms/batch 14.14 | loss  2.90 | ppl    18.21\n",
      "| epoch   3 |  2000/ 2928 batches | lr 0.00 | ms/batch 14.21 | loss  3.03 | ppl    20.66\n",
      "| epoch   3 |  2200/ 2928 batches | lr 0.00 | ms/batch 14.14 | loss  3.22 | ppl    24.91\n",
      "| epoch   3 |  2400/ 2928 batches | lr 0.00 | ms/batch 14.18 | loss  3.02 | ppl    20.46\n",
      "| epoch   3 |  2600/ 2928 batches | lr 0.00 | ms/batch 14.25 | loss  2.95 | ppl    19.13\n",
      "| epoch   3 |  2800/ 2928 batches | lr 0.00 | ms/batch 14.13 | loss  2.76 | ppl    15.83\n",
      "-----------------------------------------------------------------------------------------\n",
      "| end of epoch   3 | time: 42.37s | valid loss  9.60 | valid ppl 14784.20\n",
      "-----------------------------------------------------------------------------------------\n"
     ]
    }
   ],
   "source": [
    "best_val_loss = float('inf')\n",
    "epochs = 3\n",
    "best_model = None\n",
    "\n",
    "for epoch in range(1, epochs + 1):\n",
    "    epoch_start_time = time.time()\n",
    "    train(model)\n",
    "    val_loss = evaluate(model, val_data)\n",
    "    val_ppl = math.exp(val_loss)\n",
    "    elapsed = time.time() - epoch_start_time\n",
    "    print('-' * 89)\n",
    "    print(f'| end of epoch {epoch:3d} | time: {elapsed:5.2f}s | '\n",
    "          f'valid loss {val_loss:5.2f} | valid ppl {val_ppl:8.2f}')\n",
    "    print('-' * 89)\n",
    "\n",
    "    if val_loss < best_val_loss:\n",
    "        best_val_loss = val_loss\n",
    "        best_model = copy.deepcopy(model)\n",
    "\n",
    "    #scheduler.step()"
   ]
  },
  {
   "cell_type": "code",
   "execution_count": 44,
   "metadata": {},
   "outputs": [
    {
     "name": "stdout",
     "output_type": "stream",
     "text": [
      "=========================================================================================\n",
      "| End of training | test loss  6.84 | test ppl   933.12\n",
      "=========================================================================================\n"
     ]
    }
   ],
   "source": [
    "test_loss = evaluate(best_model, test_data)\n",
    "test_ppl = math.exp(test_loss)\n",
    "print('=' * 89)\n",
    "print(f'| End of training | test loss {test_loss:5.2f} | '\n",
    "      f'test ppl {test_ppl:8.2f}')\n",
    "print('=' * 89)"
   ]
  },
  {
   "cell_type": "code",
   "execution_count": null,
   "metadata": {},
   "outputs": [],
   "source": []
  }
 ],
 "metadata": {
  "kernelspec": {
   "display_name": "Python 3.10.6 ('ac')",
   "language": "python",
   "name": "python3"
  },
  "language_info": {
   "codemirror_mode": {
    "name": "ipython",
    "version": 3
   },
   "file_extension": ".py",
   "mimetype": "text/x-python",
   "name": "python",
   "nbconvert_exporter": "python",
   "pygments_lexer": "ipython3",
   "version": "3.10.6"
  },
  "orig_nbformat": 4,
  "vscode": {
   "interpreter": {
    "hash": "c27e8fa6375f4d15af5a5f5541d8bb88746b588c9fe1102cfd8de011d36c10c2"
   }
  }
 },
 "nbformat": 4,
 "nbformat_minor": 2
}
