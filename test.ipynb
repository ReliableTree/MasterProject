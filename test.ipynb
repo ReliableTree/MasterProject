{
 "cells": [
  {
   "cell_type": "code",
   "execution_count": 1,
   "metadata": {},
   "outputs": [],
   "source": [
    "from model_src.model import Model\n",
    "from model_src.model_setup import model_setup\n",
    "from utils.tensorboard import TBoardGraphs\n",
    "from utils.dataset import Dataset\n",
    "import hashids\n",
    "import time\n",
    "import os\n",
    "from model_src.network import Network\n",
    "from torch.utils.data import DataLoader\n",
    "import torch\n",
    "import higher\n",
    "from utils.simulation import ToySimulation\n",
    "from utils.utils import check_outpt"
   ]
  },
  {
   "cell_type": "code",
   "execution_count": 2,
   "metadata": {},
   "outputs": [
    {
     "name": "stderr",
     "output_type": "stream",
     "text": [
      "2022-06-10 00:03:52.669714: W tensorflow/stream_executor/platform/default/dso_loader.cc:64] Could not load dynamic library 'libcudnn.so.8'; dlerror: libcudnn.so.8: cannot open shared object file: No such file or directory; LD_LIBRARY_PATH: /home/hendrik/Documents/master_project/Code/LanguagePolicies/ros2/src/install/policy_translation/lib:/opt/ros/foxy/opt/yaml_cpp_vendor/lib:/opt/ros/foxy/opt/rviz_ogre_vendor/lib:/opt/ros/foxy/lib/x86_64-linux-gnu:/opt/ros/foxy/lib::/home/hendrik/Documents/master_project/CoppeliaSim_Player_V4_1_0_Ubuntu20_04:/home/hendrik/.mujoco/mujoco200/bin\n",
      "2022-06-10 00:03:52.669737: W tensorflow/core/common_runtime/gpu/gpu_device.cc:1850] Cannot dlopen some GPU libraries. Please make sure the missing libraries mentioned above are installed properly if you would like to use GPU. Follow the guide at https://www.tensorflow.org/install/gpu for how to download and setup the required libraries for your platform.\n",
      "Skipping registering GPU devices...\n"
     ]
    },
    {
     "name": "stdout",
     "output_type": "stream",
     "text": [
      "torch.Size([10000, 5, 4])\n"
     ]
    },
    {
     "data": {
      "image/png": "[encoded data removed]",
      "text/plain": [
       "<Figure size 432x288 with 9 Axes>"
      ]
     },
     "metadata": {
      "needs_background": "light"
     },
     "output_type": "display_data"
    }
   ],
   "source": [
    "hid = hashids.Hashids()\n",
    "logname = hid.encode(int(time.time() * 1000000))\n",
    "data_path = '/home/hendrik/Documents/master_project/LokalData/'\n",
    "tboard = TBoardGraphs(logname=logname, data_path=data_path)\n",
    "path_dict = {\n",
    "        'META_WORLD' : os.path.join(data_path, 'metaworld/small/'),\n",
    "        'DATA_PATH' : data_path\n",
    "        }\n",
    "train_path = path_dict['META_WORLD'] + 'train/'\n",
    "val_path = path_dict['META_WORLD'] + 'val/'\n",
    "test_path = path_dict['META_WORLD'] + 'test/'\n",
    "tol_path = path_dict['META_WORLD'] + 'tol/'\n",
    "train_data = Dataset(path=train_path, device='cuda')\n",
    "data_shape = train_data.s_trajectories.shape\n",
    "\n",
    "print(data_shape)\n",
    "model_setup['seq_len'] = data_shape[1]\n",
    "model_setup['decoder']['d_output'] = data_shape[-1]\n",
    "val_data = Dataset(path=val_path, device='cuda')\n",
    "test_data = Dataset(path=test_path, device='cuda')\n",
    "datasets = {'train':train_data, 'val':val_data}\n",
    "model_lr = 1e-5\n",
    "critic_lr = 1e-5\n",
    "model = Model(model_setup=model_setup, opt_lr=1, writer=tboard, iterations=2).to('cuda')\n",
    "train_loader = DataLoader(train_data, batch_size=16, shuffle=True)\n",
    "for succ, fail in train_loader:\n",
    "        obsv, label, succ = succ\n",
    "        break\n",
    "tol_neg = -0.30*torch.ones([label.size(-1)], device='cuda')\n",
    "tol_pos = 0.45*torch.ones([label.size(-1)], device='cuda')\n",
    "simulation = ToySimulation(neg_tol=tol_neg, pos_tol=tol_pos, check_outpt_fct=check_outpt, result_size=label.size(-1), window=0, dataset=test_data)\n",
    "\n"
   ]
  },
  {
   "cell_type": "code",
   "execution_count": 3,
   "metadata": {},
   "outputs": [
    {
     "name": "stdout",
     "output_type": "stream",
     "text": [
      "obsv:torch.Size([32, 4])\n"
     ]
    }
   ],
   "source": [
    "network = Network(model=model, data_sets=datasets, model_lr=model_lr, critic_lr=critic_lr, batchsize=32, tboard=tboard, simulation=simulation)"
   ]
  },
  {
   "cell_type": "code",
   "execution_count": 4,
   "metadata": {},
   "outputs": [
    {
     "ename": "RuntimeError",
     "evalue": "Trying to backward through the graph a second time (or directly access saved tensors after they have already been freed). Saved intermediate values of the graph are freed when you call .backward() or autograd.grad(). Specify retain_graph=True if you need to backward through the graph a second time or if you need to access saved tensors after calling backward.",
     "output_type": "error",
     "traceback": [
      "\u001b[0;31m---------------------------------------------------------------------------\u001b[0m",
      "\u001b[0;31mRuntimeError\u001b[0m                              Traceback (most recent call last)",
      "\u001b[1;32m/home/hendrik/Documents/master_project/Code/MasterProject/test.ipynb Cell 4'\u001b[0m in \u001b[0;36m<cell line: 1>\u001b[0;34m()\u001b[0m\n\u001b[0;32m----> <a href='vscode-notebook-cell:/home/hendrik/Documents/master_project/Code/MasterProject/test.ipynb#ch0000003?line=0'>1</a>\u001b[0m network\u001b[39m.\u001b[39;49mtrain(epochs\u001b[39m=\u001b[39;49m\u001b[39m200\u001b[39;49m)\n",
      "File \u001b[0;32m~/Documents/master_project/Code/MasterProject/model_src/network.py:45\u001b[0m, in \u001b[0;36mNetwork.train\u001b[0;34m(self, epochs)\u001b[0m\n\u001b[1;32m     <a href='file:///home/hendrik/Documents/master_project/Code/MasterProject/model_src/network.py?line=42'>43</a>\u001b[0m \u001b[39mfor\u001b[39;00m epoch \u001b[39min\u001b[39;00m \u001b[39mrange\u001b[39m(epochs):\n\u001b[1;32m     <a href='file:///home/hendrik/Documents/master_project/Code/MasterProject/model_src/network.py?line=43'>44</a>\u001b[0m     \u001b[39mself\u001b[39m\u001b[39m.\u001b[39mmodel\u001b[39m.\u001b[39mtrain()\n\u001b[0;32m---> <a href='file:///home/hendrik/Documents/master_project/Code/MasterProject/model_src/network.py?line=44'>45</a>\u001b[0m     \u001b[39mself\u001b[39;49m\u001b[39m.\u001b[39;49mrun_epoch(train\u001b[39m=\u001b[39;49m\u001b[39mTrue\u001b[39;49;00m)\n\u001b[1;32m     <a href='file:///home/hendrik/Documents/master_project/Code/MasterProject/model_src/network.py?line=45'>46</a>\u001b[0m     \u001b[39mself\u001b[39m\u001b[39m.\u001b[39mmodel\u001b[39m.\u001b[39meval()\n\u001b[1;32m     <a href='file:///home/hendrik/Documents/master_project/Code/MasterProject/model_src/network.py?line=46'>47</a>\u001b[0m     \u001b[39mself\u001b[39m\u001b[39m.\u001b[39mvalidate()\n",
      "File \u001b[0;32m~/Documents/master_project/Code/MasterProject/model_src/network.py:59\u001b[0m, in \u001b[0;36mNetwork.run_epoch\u001b[0;34m(self, train)\u001b[0m\n\u001b[1;32m     <a href='file:///home/hendrik/Documents/master_project/Code/MasterProject/model_src/network.py?line=56'>57</a>\u001b[0m \u001b[39mif\u001b[39;00m train:\n\u001b[1;32m     <a href='file:///home/hendrik/Documents/master_project/Code/MasterProject/model_src/network.py?line=57'>58</a>\u001b[0m     \u001b[39mself\u001b[39m\u001b[39m.\u001b[39mglobal_step \u001b[39m+\u001b[39m\u001b[39m=\u001b[39m \u001b[39m1\u001b[39m\n\u001b[0;32m---> <a href='file:///home/hendrik/Documents/master_project/Code/MasterProject/model_src/network.py?line=58'>59</a>\u001b[0m loss, debug_dict \u001b[39m=\u001b[39m \u001b[39mself\u001b[39;49m\u001b[39m.\u001b[39;49mstep(succ, train\u001b[39m=\u001b[39;49mtrain)\n\u001b[1;32m     <a href='file:///home/hendrik/Documents/master_project/Code/MasterProject/model_src/network.py?line=59'>60</a>\u001b[0m losses \u001b[39m=\u001b[39m add_data_to_seq(loss, losses)\n\u001b[1;32m     <a href='file:///home/hendrik/Documents/master_project/Code/MasterProject/model_src/network.py?line=60'>61</a>\u001b[0m \u001b[39mself\u001b[39m\u001b[39m.\u001b[39mtboard\u001b[39m.\u001b[39mwrite_tboard_scalar(debug_dict\u001b[39m=\u001b[39mdebug_dict, train\u001b[39m=\u001b[39mtrain, step\u001b[39m=\u001b[39m\u001b[39mself\u001b[39m\u001b[39m.\u001b[39mglobal_step, prefix\u001b[39m=\u001b[39m\u001b[39m'\u001b[39m\u001b[39msucc \u001b[39m\u001b[39m'\u001b[39m)\n",
      "File \u001b[0;32m~/Documents/master_project/Code/MasterProject/model_src/network.py:74\u001b[0m, in \u001b[0;36mNetwork.step\u001b[0;34m(self, inpt, train)\u001b[0m\n\u001b[1;32m     <a href='file:///home/hendrik/Documents/master_project/Code/MasterProject/model_src/network.py?line=71'>72</a>\u001b[0m obsv, label, succ \u001b[39m=\u001b[39m inpt\n\u001b[1;32m     <a href='file:///home/hendrik/Documents/master_project/Code/MasterProject/model_src/network.py?line=72'>73</a>\u001b[0m \u001b[39mif\u001b[39;00m train:\n\u001b[0;32m---> <a href='file:///home/hendrik/Documents/master_project/Code/MasterProject/model_src/network.py?line=73'>74</a>\u001b[0m     results \u001b[39m=\u001b[39m \u001b[39mself\u001b[39;49m\u001b[39m.\u001b[39;49mmodel\u001b[39m.\u001b[39;49mforward(obsv, output_intermediate\u001b[39m=\u001b[39;49m\u001b[39mTrue\u001b[39;49;00m, loss_fct \u001b[39m=\u001b[39;49m \u001b[39mself\u001b[39;49m\u001b[39m.\u001b[39;49mcalculate_loss, label\u001b[39m=\u001b[39;49mlabel, succ \u001b[39m=\u001b[39;49m succ, opt \u001b[39m=\u001b[39;49m \u001b[39mself\u001b[39;49m\u001b[39m.\u001b[39;49moptimizers)\n\u001b[1;32m     <a href='file:///home/hendrik/Documents/master_project/Code/MasterProject/model_src/network.py?line=74'>75</a>\u001b[0m \u001b[39melse\u001b[39;00m:\n\u001b[1;32m     <a href='file:///home/hendrik/Documents/master_project/Code/MasterProject/model_src/network.py?line=75'>76</a>\u001b[0m     results \u001b[39m=\u001b[39m \u001b[39mself\u001b[39m\u001b[39m.\u001b[39mmodel\u001b[39m.\u001b[39mforward(obsv, output_intermediate\u001b[39m=\u001b[39m\u001b[39mTrue\u001b[39;00m)\n",
      "File \u001b[0;32m~/Documents/master_project/Code/MasterProject/model_src/model.py:39\u001b[0m, in \u001b[0;36mModel.forward\u001b[0;34m(self, task_embedding, inpt_seq, output_intermediate, loss_fct, label, succ, opt)\u001b[0m\n\u001b[1;32m     <a href='file:///home/hendrik/Documents/master_project/Code/MasterProject/model_src/model.py?line=36'>37</a>\u001b[0m \u001b[39mfor\u001b[39;00m o \u001b[39min\u001b[39;00m opt:\n\u001b[1;32m     <a href='file:///home/hendrik/Documents/master_project/Code/MasterProject/model_src/model.py?line=37'>38</a>\u001b[0m     o\u001b[39m.\u001b[39mzero_grad()\n\u001b[0;32m---> <a href='file:///home/hendrik/Documents/master_project/Code/MasterProject/model_src/model.py?line=38'>39</a>\u001b[0m loss\u001b[39m.\u001b[39;49mbackward()\n\u001b[1;32m     <a href='file:///home/hendrik/Documents/master_project/Code/MasterProject/model_src/model.py?line=39'>40</a>\u001b[0m \u001b[39mfor\u001b[39;00m o \u001b[39min\u001b[39;00m opt:\n\u001b[1;32m     <a href='file:///home/hendrik/Documents/master_project/Code/MasterProject/model_src/model.py?line=40'>41</a>\u001b[0m     o\u001b[39m.\u001b[39mstep()\n",
      "File \u001b[0;32m~/anaconda3/envs/mujoco/lib/python3.8/site-packages/torch/_tensor.py:307\u001b[0m, in \u001b[0;36mTensor.backward\u001b[0;34m(self, gradient, retain_graph, create_graph, inputs)\u001b[0m\n\u001b[1;32m    <a href='file:///home/hendrik/anaconda3/envs/mujoco/lib/python3.8/site-packages/torch/_tensor.py?line=297'>298</a>\u001b[0m \u001b[39mif\u001b[39;00m has_torch_function_unary(\u001b[39mself\u001b[39m):\n\u001b[1;32m    <a href='file:///home/hendrik/anaconda3/envs/mujoco/lib/python3.8/site-packages/torch/_tensor.py?line=298'>299</a>\u001b[0m     \u001b[39mreturn\u001b[39;00m handle_torch_function(\n\u001b[1;32m    <a href='file:///home/hendrik/anaconda3/envs/mujoco/lib/python3.8/site-packages/torch/_tensor.py?line=299'>300</a>\u001b[0m         Tensor\u001b[39m.\u001b[39mbackward,\n\u001b[1;32m    <a href='file:///home/hendrik/anaconda3/envs/mujoco/lib/python3.8/site-packages/torch/_tensor.py?line=300'>301</a>\u001b[0m         (\u001b[39mself\u001b[39m,),\n\u001b[0;32m   (...)\u001b[0m\n\u001b[1;32m    <a href='file:///home/hendrik/anaconda3/envs/mujoco/lib/python3.8/site-packages/torch/_tensor.py?line=304'>305</a>\u001b[0m         create_graph\u001b[39m=\u001b[39mcreate_graph,\n\u001b[1;32m    <a href='file:///home/hendrik/anaconda3/envs/mujoco/lib/python3.8/site-packages/torch/_tensor.py?line=305'>306</a>\u001b[0m         inputs\u001b[39m=\u001b[39minputs)\n\u001b[0;32m--> <a href='file:///home/hendrik/anaconda3/envs/mujoco/lib/python3.8/site-packages/torch/_tensor.py?line=306'>307</a>\u001b[0m torch\u001b[39m.\u001b[39;49mautograd\u001b[39m.\u001b[39;49mbackward(\u001b[39mself\u001b[39;49m, gradient, retain_graph, create_graph, inputs\u001b[39m=\u001b[39;49minputs)\n",
      "File \u001b[0;32m~/anaconda3/envs/mujoco/lib/python3.8/site-packages/torch/autograd/__init__.py:154\u001b[0m, in \u001b[0;36mbackward\u001b[0;34m(tensors, grad_tensors, retain_graph, create_graph, grad_variables, inputs)\u001b[0m\n\u001b[1;32m    <a href='file:///home/hendrik/anaconda3/envs/mujoco/lib/python3.8/site-packages/torch/autograd/__init__.py?line=150'>151</a>\u001b[0m \u001b[39mif\u001b[39;00m retain_graph \u001b[39mis\u001b[39;00m \u001b[39mNone\u001b[39;00m:\n\u001b[1;32m    <a href='file:///home/hendrik/anaconda3/envs/mujoco/lib/python3.8/site-packages/torch/autograd/__init__.py?line=151'>152</a>\u001b[0m     retain_graph \u001b[39m=\u001b[39m create_graph\n\u001b[0;32m--> <a href='file:///home/hendrik/anaconda3/envs/mujoco/lib/python3.8/site-packages/torch/autograd/__init__.py?line=153'>154</a>\u001b[0m Variable\u001b[39m.\u001b[39;49m_execution_engine\u001b[39m.\u001b[39;49mrun_backward(\n\u001b[1;32m    <a href='file:///home/hendrik/anaconda3/envs/mujoco/lib/python3.8/site-packages/torch/autograd/__init__.py?line=154'>155</a>\u001b[0m     tensors, grad_tensors_, retain_graph, create_graph, inputs,\n\u001b[1;32m    <a href='file:///home/hendrik/anaconda3/envs/mujoco/lib/python3.8/site-packages/torch/autograd/__init__.py?line=155'>156</a>\u001b[0m     allow_unreachable\u001b[39m=\u001b[39;49m\u001b[39mTrue\u001b[39;49;00m, accumulate_grad\u001b[39m=\u001b[39;49m\u001b[39mTrue\u001b[39;49;00m)\n",
      "\u001b[0;31mRuntimeError\u001b[0m: Trying to backward through the graph a second time (or directly access saved tensors after they have already been freed). Saved intermediate values of the graph are freed when you call .backward() or autograd.grad(). Specify retain_graph=True if you need to backward through the graph a second time or if you need to access saved tensors after calling backward."
     ]
    }
   ],
   "source": [
    "network.train(epochs=200)"
   ]
  },
  {
   "cell_type": "code",
   "execution_count": null,
   "metadata": {},
   "outputs": [],
   "source": [
    "network.simulate(num_envs=200, policy=network.model)"
   ]
  },
  {
   "cell_type": "code",
   "execution_count": null,
   "metadata": {},
   "outputs": [
    {
     "ename": "TypeError",
     "evalue": "__init__() missing 1 required positional argument: 'iterations'",
     "output_type": "error",
     "traceback": [
      "\u001b[0;31m---------------------------------------------------------------------------\u001b[0m",
      "\u001b[0;31mTypeError\u001b[0m                                 Traceback (most recent call last)",
      "\u001b[1;32m/home/hendrik/Documents/master_project/Code/MasterProject/test.ipynb Cell 6'\u001b[0m in \u001b[0;36m<cell line: 1>\u001b[0;34m()\u001b[0m\n\u001b[0;32m----> <a href='vscode-notebook-cell:/home/hendrik/Documents/master_project/Code/MasterProject/test.ipynb#ch0000005?line=0'>1</a>\u001b[0m model \u001b[39m=\u001b[39m Model(model_setup\u001b[39m=\u001b[39;49mmodel_setup, opt_lr\u001b[39m=\u001b[39;49m\u001b[39m1\u001b[39;49m, writer\u001b[39m=\u001b[39;49mtboard)\n",
      "\u001b[0;31mTypeError\u001b[0m: __init__() missing 1 required positional argument: 'iterations'"
     ]
    }
   ],
   "source": [
    "model = Model(model_setup=model_setup, opt_lr=1, writer=tboard)"
   ]
  },
  {
   "cell_type": "code",
   "execution_count": null,
   "metadata": {},
   "outputs": [],
   "source": []
  },
  {
   "cell_type": "code",
   "execution_count": null,
   "metadata": {},
   "outputs": [
    {
     "ename": "IndexError",
     "evalue": "dimension specified as 0 but tensor has no dimensions",
     "output_type": "error",
     "traceback": [
      "\u001b[0;31m---------------------------------------------------------------------------\u001b[0m",
      "\u001b[0;31mIndexError\u001b[0m                                Traceback (most recent call last)",
      "\u001b[1;32m/home/hendrik/Documents/master_project/Code/MasterProject/test.ipynb Cell 8'\u001b[0m in \u001b[0;36m<cell line: 2>\u001b[0;34m()\u001b[0m\n\u001b[1;32m      <a href='vscode-notebook-cell:/home/hendrik/Documents/master_project/Code/MasterProject/test.ipynb#ch0000007?line=0'>1</a>\u001b[0m opt \u001b[39m=\u001b[39m torch\u001b[39m.\u001b[39moptim\u001b[39m.\u001b[39mAdamW(params\u001b[39m=\u001b[39mmodel\u001b[39m.\u001b[39mparameters(), lr\u001b[39m=\u001b[39m\u001b[39m1e-4\u001b[39m)\n\u001b[1;32m      <a href='vscode-notebook-cell:/home/hendrik/Documents/master_project/Code/MasterProject/test.ipynb#ch0000007?line=1'>2</a>\u001b[0m \u001b[39mwith\u001b[39;00m torch\u001b[39m.\u001b[39mno_grad():\n\u001b[0;32m----> <a href='vscode-notebook-cell:/home/hendrik/Documents/master_project/Code/MasterProject/test.ipynb#ch0000007?line=2'>3</a>\u001b[0m     erg,_,_ \u001b[39m=\u001b[39mmodel\u001b[39m.\u001b[39;49mforward(succ[\u001b[39m0\u001b[39;49m])\n\u001b[1;32m      <a href='vscode-notebook-cell:/home/hendrik/Documents/master_project/Code/MasterProject/test.ipynb#ch0000007?line=3'>4</a>\u001b[0m h \u001b[39m=\u001b[39m time\u001b[39m.\u001b[39mperf_counter()\n\u001b[1;32m      <a href='vscode-notebook-cell:/home/hendrik/Documents/master_project/Code/MasterProject/test.ipynb#ch0000007?line=4'>5</a>\u001b[0m \u001b[39mdef\u001b[39;00m \u001b[39mmse\u001b[39m(a,b):\n",
      "File \u001b[0;32m~/Documents/master_project/Code/MasterProject/model_src/model.py:28\u001b[0m, in \u001b[0;36mModel.forward\u001b[0;34m(self, task_embedding, inpt_seq)\u001b[0m\n\u001b[1;32m     <a href='file:///home/hendrik/Documents/master_project/Code/MasterProject/model_src/model.py?line=24'>25</a>\u001b[0m \u001b[39mdef\u001b[39;00m \u001b[39mforward\u001b[39m(\u001b[39mself\u001b[39m, task_embedding, inpt_seq\u001b[39m=\u001b[39m\u001b[39mNone\u001b[39;00m):\n\u001b[1;32m     <a href='file:///home/hendrik/Documents/master_project/Code/MasterProject/model_src/model.py?line=25'>26</a>\u001b[0m     \u001b[39m#inpt = N,1,d(task)\u001b[39;00m\n\u001b[1;32m     <a href='file:///home/hendrik/Documents/master_project/Code/MasterProject/model_src/model.py?line=26'>27</a>\u001b[0m     \u001b[39mif\u001b[39;00m inpt_seq \u001b[39mis\u001b[39;00m \u001b[39mNone\u001b[39;00m:\n\u001b[0;32m---> <a href='file:///home/hendrik/Documents/master_project/Code/MasterProject/model_src/model.py?line=27'>28</a>\u001b[0m         seq_size \u001b[39m=\u001b[39m (task_embedding\u001b[39m.\u001b[39;49msize(\u001b[39m0\u001b[39;49m), \u001b[39mself\u001b[39m\u001b[39m.\u001b[39mseq_len, \u001b[39mself\u001b[39m\u001b[39m.\u001b[39mmodel_setup[\u001b[39m'\u001b[39m\u001b[39mtransformer\u001b[39m\u001b[39m'\u001b[39m][\u001b[39m'\u001b[39m\u001b[39md_model\u001b[39m\u001b[39m'\u001b[39m])\n\u001b[1;32m     <a href='file:///home/hendrik/Documents/master_project/Code/MasterProject/model_src/model.py?line=28'>29</a>\u001b[0m         inpt_seq \u001b[39m=\u001b[39m right_stack_obj_trj(task_embedding, seq_size)\n\u001b[1;32m     <a href='file:///home/hendrik/Documents/master_project/Code/MasterProject/model_src/model.py?line=29'>30</a>\u001b[0m     \u001b[39m#print(f'trans seq: {inpt_seq.shape}')\u001b[39;00m\n",
      "\u001b[0;31mIndexError\u001b[0m: dimension specified as 0 but tensor has no dimensions"
     ]
    }
   ],
   "source": [
    "opt = torch.optim.AdamW(params=model.parameters(), lr=1e-4)\n",
    "with torch.no_grad():\n",
    "    erg,_,_ =model.forward(succ[0])\n",
    "h = time.perf_counter()\n",
    "def mse(a,b):\n",
    "    return ((a-b)**2).mean()\n",
    "\n",
    "for succ, fail in train_loader:\n",
    "    erg,_,_ =model.forward(succ[0])\n",
    "    loss = mse(erg, succ[1])\n",
    "    loss.backward()\n",
    "    opt.step()\n",
    "print(time.perf_counter() - h)\n",
    "\n",
    "\n"
   ]
  },
  {
   "cell_type": "code",
   "execution_count": null,
   "metadata": {},
   "outputs": [],
   "source": [
    "from model_src.model import Model\n",
    "from model_src.model_setup import model_setup\n",
    "from utils.tensorboard import TBoardGraphs\n",
    "from utils.dataset import Dataset\n",
    "import hashids\n",
    "import time\n",
    "import os\n",
    "from model_src.network import Network\n",
    "from torch.utils.data import DataLoader\n",
    "import torch\n",
    "import higher"
   ]
  },
  {
   "cell_type": "code",
   "execution_count": null,
   "metadata": {},
   "outputs": [],
   "source": [
    "hid = hashids.Hashids()\n",
    "logname = hid.encode(int(time.time() * 1000000))\n",
    "data_path = '/home/hendrik/Documents/master_project/LokalData/'\n",
    "tboard = TBoardGraphs(logname=logname, data_path=data_path)\n",
    "path_dict = {\n",
    "        'META_WORLD' : os.path.join(data_path, 'metaworld/small/'),\n",
    "        'DATA_PATH' : data_path\n",
    "        }\n",
    "train_path = path_dict['META_WORLD'] + 'train/'\n",
    "val_path = path_dict['META_WORLD'] + 'val/'\n",
    "test_path = path_dict['META_WORLD'] + 'test/'\n",
    "tol_path = path_dict['META_WORLD'] + 'tol/'\n",
    "train_data = Dataset(path=train_path, device='cuda')\n",
    "data_shape = train_data.s_trajectories.shape\n",
    "model_setup['seq_len'] = data_shape[1]\n",
    "model_setup['decoder']['d_output'] = data_shape[-1]\n",
    "val_data = Dataset(path=val_path)\n",
    "datasets = {'train':train_data, 'val':val_data}\n",
    "model_lr = 1e-4\n",
    "seq_decoder_lr = 1e-4\n",
    "critic_lr = 1e-4\n",
    "model = Model(model_setup=model_setup, opt_lr=1, writer=tboard)\n",
    "def mse(a,b):\n",
    "    return ((a-b)**2).mean()"
   ]
  },
  {
   "cell_type": "code",
   "execution_count": null,
   "metadata": {},
   "outputs": [],
   "source": [
    "model = Model(model_setup=model_setup, opt_lr=1, writer=tboard).to('cuda')\n",
    "\n",
    "train_loader = DataLoader(train_data, batch_size=100, shuffle=True)\n",
    "\n",
    "with torch.no_grad():\n",
    "    for succ, fail in train_loader:\n",
    "        erg,_,_ =model.forward(succ[0])\n",
    "        break\n",
    "opt = torch.optim.AdamW(model.parameters())\n",
    "h = time.perf_counter()\n",
    "with higher.innerloop_ctx(model, opt, copy_initial_weights=False, track_higher_grads=False) as (fmodel, diffopt):\n",
    "    for succ, fail in train_loader:\n",
    "        erg,_,_ =fmodel.forward(succ[0])\n",
    "        loss = mse(erg, succ[1])\n",
    "        diffopt.step(loss)\n",
    "print(time.perf_counter() - h)"
   ]
  },
  {
   "cell_type": "code",
   "execution_count": null,
   "metadata": {},
   "outputs": [],
   "source": []
  }
 ],
 "metadata": {
  "interpreter": {
   "hash": "f6edd83f9b3fcb9454c0e509bb1e55f01736f244b1bbba81ee1367549d9ea0fd"
  },
  "kernelspec": {
   "display_name": "Python 3.8.13 ('mujoco')",
   "language": "python",
   "name": "python3"
  },
  "language_info": {
   "codemirror_mode": {
    "name": "ipython",
    "version": 3
   },
   "file_extension": ".py",
   "mimetype": "text/x-python",
   "name": "python",
   "nbconvert_exporter": "python",
   "pygments_lexer": "ipython3",
   "version": "3.8.13"
  },
  "orig_nbformat": 4
 },
 "nbformat": 4,
 "nbformat_minor": 2
}
