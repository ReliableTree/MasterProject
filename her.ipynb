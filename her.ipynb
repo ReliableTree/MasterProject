{
 "cells": [
  {
   "cell_type": "code",
   "execution_count": 1,
   "metadata": {},
   "outputs": [
    {
     "name": "stderr",
     "output_type": "stream",
     "text": [
      "2022-06-18 22:41:21.787114: W tensorflow/stream_executor/platform/default/dso_loader.cc:64] Could not load dynamic library 'libcudnn.so.8'; dlerror: libcudnn.so.8: cannot open shared object file: No such file or directory; LD_LIBRARY_PATH: :/home/hendrik/Documents/master_project/CoppeliaSim_Player_V4_1_0_Ubuntu20_04:/home/hendrik/.mujoco/mujoco200/bin\n",
      "2022-06-18 22:41:21.787133: W tensorflow/core/common_runtime/gpu/gpu_device.cc:1850] Cannot dlopen some GPU libraries. Please make sure the missing libraries mentioned above are installed properly if you would like to use GPU. Follow the guide at https://www.tensorflow.org/install/gpu for how to download and setup the required libraries for your platform.\n",
      "Skipping registering GPU devices...\n"
     ]
    },
    {
     "name": "stdout",
     "output_type": "stream",
     "text": [
      "obsv:torch.Size([16, 10])\n",
      "+---------------------------------------------------------------------------------+------------+\n",
      "|                                     Modules                                     | Parameters |\n",
      "+---------------------------------------------------------------------------------+------------+\n",
      "|     model.transformer.transformer_encoder.layers.0.self_attn.in_proj_weight     |   480000   |\n",
      "|      model.transformer.transformer_encoder.layers.0.self_attn.in_proj_bias      |    1200    |\n",
      "|     model.transformer.transformer_encoder.layers.0.self_attn.out_proj.weight    |   160000   |\n",
      "|      model.transformer.transformer_encoder.layers.0.self_attn.out_proj.bias     |    400     |\n",
      "|          model.transformer.transformer_encoder.layers.0.linear1.weight          |   160000   |\n",
      "|           model.transformer.transformer_encoder.layers.0.linear1.bias           |    400     |\n",
      "|          model.transformer.transformer_encoder.layers.0.linear2.weight          |   160000   |\n",
      "|           model.transformer.transformer_encoder.layers.0.linear2.bias           |    400     |\n",
      "|           model.transformer.transformer_encoder.layers.0.norm1.weight           |    400     |\n",
      "|            model.transformer.transformer_encoder.layers.0.norm1.bias            |    400     |\n",
      "|           model.transformer.transformer_encoder.layers.0.norm2.weight           |    400     |\n",
      "|            model.transformer.transformer_encoder.layers.0.norm2.bias            |    400     |\n",
      "|     model.transformer.transformer_encoder.layers.1.self_attn.in_proj_weight     |   480000   |\n",
      "|      model.transformer.transformer_encoder.layers.1.self_attn.in_proj_bias      |    1200    |\n",
      "|     model.transformer.transformer_encoder.layers.1.self_attn.out_proj.weight    |   160000   |\n",
      "|      model.transformer.transformer_encoder.layers.1.self_attn.out_proj.bias     |    400     |\n",
      "|          model.transformer.transformer_encoder.layers.1.linear1.weight          |   160000   |\n",
      "|           model.transformer.transformer_encoder.layers.1.linear1.bias           |    400     |\n",
      "|          model.transformer.transformer_encoder.layers.1.linear2.weight          |   160000   |\n",
      "|           model.transformer.transformer_encoder.layers.1.linear2.bias           |    400     |\n",
      "|           model.transformer.transformer_encoder.layers.1.norm1.weight           |    400     |\n",
      "|            model.transformer.transformer_encoder.layers.1.norm1.bias            |    400     |\n",
      "|           model.transformer.transformer_encoder.layers.1.norm2.weight           |    400     |\n",
      "|            model.transformer.transformer_encoder.layers.1.norm2.bias            |    400     |\n",
      "|     model.transformer.transformer_encoder.layers.2.self_attn.in_proj_weight     |   480000   |\n",
      "|      model.transformer.transformer_encoder.layers.2.self_attn.in_proj_bias      |    1200    |\n",
      "|     model.transformer.transformer_encoder.layers.2.self_attn.out_proj.weight    |   160000   |\n",
      "|      model.transformer.transformer_encoder.layers.2.self_attn.out_proj.bias     |    400     |\n",
      "|          model.transformer.transformer_encoder.layers.2.linear1.weight          |   160000   |\n",
      "|           model.transformer.transformer_encoder.layers.2.linear1.bias           |    400     |\n",
      "|          model.transformer.transformer_encoder.layers.2.linear2.weight          |   160000   |\n",
      "|           model.transformer.transformer_encoder.layers.2.linear2.bias           |    400     |\n",
      "|           model.transformer.transformer_encoder.layers.2.norm1.weight           |    400     |\n",
      "|            model.transformer.transformer_encoder.layers.2.norm1.bias            |    400     |\n",
      "|           model.transformer.transformer_encoder.layers.2.norm2.weight           |    400     |\n",
      "|            model.transformer.transformer_encoder.layers.2.norm2.bias            |    400     |\n",
      "|     model.transformer.transformer_encoder.layers.3.self_attn.in_proj_weight     |   480000   |\n",
      "|      model.transformer.transformer_encoder.layers.3.self_attn.in_proj_bias      |    1200    |\n",
      "|     model.transformer.transformer_encoder.layers.3.self_attn.out_proj.weight    |   160000   |\n",
      "|      model.transformer.transformer_encoder.layers.3.self_attn.out_proj.bias     |    400     |\n",
      "|          model.transformer.transformer_encoder.layers.3.linear1.weight          |   160000   |\n",
      "|           model.transformer.transformer_encoder.layers.3.linear1.bias           |    400     |\n",
      "|          model.transformer.transformer_encoder.layers.3.linear2.weight          |   160000   |\n",
      "|           model.transformer.transformer_encoder.layers.3.linear2.bias           |    400     |\n",
      "|           model.transformer.transformer_encoder.layers.3.norm1.weight           |    400     |\n",
      "|            model.transformer.transformer_encoder.layers.3.norm1.bias            |    400     |\n",
      "|           model.transformer.transformer_encoder.layers.3.norm2.weight           |    400     |\n",
      "|            model.transformer.transformer_encoder.layers.3.norm2.bias            |    400     |\n",
      "|                         model.transformer.encoder.weight                        |   160000   |\n",
      "|                          model.transformer.encoder.bias                         |    400     |\n",
      "|  model.critic_transformer.transformer_encoder.layers.0.self_attn.in_proj_weight |   480000   |\n",
      "|   model.critic_transformer.transformer_encoder.layers.0.self_attn.in_proj_bias  |    1200    |\n",
      "| model.critic_transformer.transformer_encoder.layers.0.self_attn.out_proj.weight |   160000   |\n",
      "|  model.critic_transformer.transformer_encoder.layers.0.self_attn.out_proj.bias  |    400     |\n",
      "|       model.critic_transformer.transformer_encoder.layers.0.linear1.weight      |   160000   |\n",
      "|        model.critic_transformer.transformer_encoder.layers.0.linear1.bias       |    400     |\n",
      "|       model.critic_transformer.transformer_encoder.layers.0.linear2.weight      |   160000   |\n",
      "|        model.critic_transformer.transformer_encoder.layers.0.linear2.bias       |    400     |\n",
      "|        model.critic_transformer.transformer_encoder.layers.0.norm1.weight       |    400     |\n",
      "|         model.critic_transformer.transformer_encoder.layers.0.norm1.bias        |    400     |\n",
      "|        model.critic_transformer.transformer_encoder.layers.0.norm2.weight       |    400     |\n",
      "|         model.critic_transformer.transformer_encoder.layers.0.norm2.bias        |    400     |\n",
      "|  model.critic_transformer.transformer_encoder.layers.1.self_attn.in_proj_weight |   480000   |\n",
      "|   model.critic_transformer.transformer_encoder.layers.1.self_attn.in_proj_bias  |    1200    |\n",
      "| model.critic_transformer.transformer_encoder.layers.1.self_attn.out_proj.weight |   160000   |\n",
      "|  model.critic_transformer.transformer_encoder.layers.1.self_attn.out_proj.bias  |    400     |\n",
      "|       model.critic_transformer.transformer_encoder.layers.1.linear1.weight      |   160000   |\n",
      "|        model.critic_transformer.transformer_encoder.layers.1.linear1.bias       |    400     |\n",
      "|       model.critic_transformer.transformer_encoder.layers.1.linear2.weight      |   160000   |\n",
      "|        model.critic_transformer.transformer_encoder.layers.1.linear2.bias       |    400     |\n",
      "|        model.critic_transformer.transformer_encoder.layers.1.norm1.weight       |    400     |\n",
      "|         model.critic_transformer.transformer_encoder.layers.1.norm1.bias        |    400     |\n",
      "|        model.critic_transformer.transformer_encoder.layers.1.norm2.weight       |    400     |\n",
      "|         model.critic_transformer.transformer_encoder.layers.1.norm2.bias        |    400     |\n",
      "|  model.critic_transformer.transformer_encoder.layers.2.self_attn.in_proj_weight |   480000   |\n",
      "|   model.critic_transformer.transformer_encoder.layers.2.self_attn.in_proj_bias  |    1200    |\n",
      "| model.critic_transformer.transformer_encoder.layers.2.self_attn.out_proj.weight |   160000   |\n",
      "|  model.critic_transformer.transformer_encoder.layers.2.self_attn.out_proj.bias  |    400     |\n",
      "|       model.critic_transformer.transformer_encoder.layers.2.linear1.weight      |   160000   |\n",
      "|        model.critic_transformer.transformer_encoder.layers.2.linear1.bias       |    400     |\n",
      "|       model.critic_transformer.transformer_encoder.layers.2.linear2.weight      |   160000   |\n",
      "|        model.critic_transformer.transformer_encoder.layers.2.linear2.bias       |    400     |\n",
      "|        model.critic_transformer.transformer_encoder.layers.2.norm1.weight       |    400     |\n",
      "|         model.critic_transformer.transformer_encoder.layers.2.norm1.bias        |    400     |\n",
      "|        model.critic_transformer.transformer_encoder.layers.2.norm2.weight       |    400     |\n",
      "|         model.critic_transformer.transformer_encoder.layers.2.norm2.bias        |    400     |\n",
      "|  model.critic_transformer.transformer_encoder.layers.3.self_attn.in_proj_weight |   480000   |\n",
      "|   model.critic_transformer.transformer_encoder.layers.3.self_attn.in_proj_bias  |    1200    |\n",
      "| model.critic_transformer.transformer_encoder.layers.3.self_attn.out_proj.weight |   160000   |\n",
      "|  model.critic_transformer.transformer_encoder.layers.3.self_attn.out_proj.bias  |    400     |\n",
      "|       model.critic_transformer.transformer_encoder.layers.3.linear1.weight      |   160000   |\n",
      "|        model.critic_transformer.transformer_encoder.layers.3.linear1.bias       |    400     |\n",
      "|       model.critic_transformer.transformer_encoder.layers.3.linear2.weight      |   160000   |\n",
      "|        model.critic_transformer.transformer_encoder.layers.3.linear2.bias       |    400     |\n",
      "|        model.critic_transformer.transformer_encoder.layers.3.norm1.weight       |    400     |\n",
      "|         model.critic_transformer.transformer_encoder.layers.3.norm1.bias        |    400     |\n",
      "|        model.critic_transformer.transformer_encoder.layers.3.norm2.weight       |    400     |\n",
      "|         model.critic_transformer.transformer_encoder.layers.3.norm2.bias        |    400     |\n",
      "|                     model.critic_transformer.encoder.weight                     |   160000   |\n",
      "|                      model.critic_transformer.encoder.bias                      |    400     |\n",
      "+---------------------------------------------------------------------------------+------------+\n",
      "Total Trainable Params: 8032800\n"
     ]
    }
   ],
   "source": [
    "from utils.dataset import HERDataset\n",
    "from model_src.model_setup import model_setup\n",
    "from utils.tensorboard import TBoardGraphs\n",
    "import hashids\n",
    "import time\n",
    "from model_src.network import Network\n",
    "import torch\n",
    "from utils.simulation import HERSimulation\n",
    "from prettytable import PrettyTable\n",
    "import copy\n",
    "\n",
    "torch.manual_seed(0)\n",
    "\n",
    "def count_parameters(model):\n",
    "    table = PrettyTable([\"Modules\", \"Parameters\"])\n",
    "    total_params = 0\n",
    "    for name, parameter in model.named_parameters():\n",
    "        if not parameter.requires_grad: continue\n",
    "        param = parameter.numel()\n",
    "        table.add_row([name, param])\n",
    "        total_params+=param\n",
    "    print(table)\n",
    "    print(f\"Total Trainable Params: {total_params}\")\n",
    "    return total_params\n",
    "\n",
    "hid = hashids.Hashids()\n",
    "logname = hid.encode(int(time.time() * 1000000))\n",
    "data_path = '/home/hendrik/Documents/master_project/LokalData/'\n",
    "tboard = TBoardGraphs(logname=logname, data_path=data_path)\n",
    "\n",
    "train_data = HERDataset(path='/home/hendrik/Documents/master_project/Code/MasterProject/data_fetch_random_100.npz', device='cuda', num_ele=-0)\n",
    "val_data = copy.deepcopy(train_data)\n",
    "\n",
    "model_setup['seq_len'] = 53\n",
    "model_setup['decoder']['d_output'] = 11\n",
    "#model_setup['transformer']['d_output']=4\n",
    "model_setup['transformer']['d_inpt'] = 400\n",
    "new_model_setup = model_setup\n",
    "datasets = {'train':train_data, 'val':val_data}\n",
    "model_lr = 6e-5\n",
    "critic_lr = 6e-5\n",
    "batch_size = 32\n",
    "\n",
    "simulation = HERSimulation()\n",
    "\n",
    "\n",
    "\n",
    "network = Network(model_setup=model_setup, data_sets=datasets, model_lr=model_lr, critic_lr=critic_lr, batchsize=16, tboard=tboard, simulation=simulation, batch_size=batch_size, save_path=data_path, logname = logname)\n",
    "count_parameters(network)\n",
    "network.save()\n",
    "network.load()\n"
   ]
  },
  {
   "cell_type": "code",
   "execution_count": 2,
   "metadata": {},
   "outputs": [
    {
     "name": "stdout",
     "output_type": "stream",
     "text": [
      "len succ: 100\n",
      "len fail: 0\n"
     ]
    },
    {
     "name": "stderr",
     "output_type": "stream",
     "text": [
      "/home/hendrik/anaconda3/envs/mujoco/lib/python3.8/site-packages/gym/logger.py:30: UserWarning: \u001b[33mWARN: Box bound precision lowered by casting to float32\u001b[0m\n",
      "  warnings.warn(colorize('%s: %s'%('WARN', msg % args), 'yellow'))\n"
     ]
    },
    {
     "name": "stdout",
     "output_type": "stream",
     "text": [
      "added data\n",
      "data len: 150\n",
      "len succ: 102\n",
      "len fail: 48\n"
     ]
    },
    {
     "name": "stderr",
     "output_type": "stream",
     "text": [
      "/home/hendrik/anaconda3/envs/mujoco/lib/python3.8/site-packages/gym/logger.py:30: UserWarning: \u001b[33mWARN: Box bound precision lowered by casting to float32\u001b[0m\n",
      "  warnings.warn(colorize('%s: %s'%('WARN', msg % args), 'yellow'))\n"
     ]
    },
    {
     "name": "stdout",
     "output_type": "stream",
     "text": [
      "added data\n",
      "data len: 200\n",
      "len succ: 142\n",
      "len fail: 58\n",
      "epoch: 0\n"
     ]
    },
    {
     "ename": "RuntimeError",
     "evalue": "CUDA error: CUBLAS_STATUS_INTERNAL_ERROR when calling `cublasSgemm( handle, opa, opb, m, n, k, &alpha, a, lda, b, ldb, &beta, c, ldc)`",
     "output_type": "error",
     "traceback": [
      "\u001b[0;31m---------------------------------------------------------------------------\u001b[0m",
      "\u001b[0;31mRuntimeError\u001b[0m                              Traceback (most recent call last)",
      "\u001b[1;32m/home/hendrik/Documents/master_project/Code/MasterProject/her.ipynb Cell 2'\u001b[0m in \u001b[0;36m<cell line: 1>\u001b[0;34m()\u001b[0m\n\u001b[0;32m----> <a href='vscode-notebook-cell:/home/hendrik/Documents/master_project/Code/MasterProject/her.ipynb#ch0000001?line=0'>1</a>\u001b[0m network\u001b[39m.\u001b[39;49mtrain(epochs\u001b[39m=\u001b[39;49m\u001b[39m100000\u001b[39;49m)\n",
      "File \u001b[0;32m~/Documents/master_project/Code/MasterProject/model_src/network.py:60\u001b[0m, in \u001b[0;36mNetwork.train\u001b[0;34m(self, epochs)\u001b[0m\n\u001b[1;32m     <a href='file:///home/hendrik/Documents/master_project/Code/MasterProject/model_src/network.py?line=57'>58</a>\u001b[0m learning_loops \u001b[39m=\u001b[39m \u001b[39m0\u001b[39m\n\u001b[1;32m     <a href='file:///home/hendrik/Documents/master_project/Code/MasterProject/model_src/network.py?line=58'>59</a>\u001b[0m \u001b[39mwhile\u001b[39;00m (trj_loss \u001b[39m>\u001b[39m \u001b[39m6e-5\u001b[39m)\u001b[39mor\u001b[39;00m (critic_acc \u001b[39m<\u001b[39m \u001b[39m1\u001b[39m):\n\u001b[0;32m---> <a href='file:///home/hendrik/Documents/master_project/Code/MasterProject/model_src/network.py?line=59'>60</a>\u001b[0m     debug_dict \u001b[39m=\u001b[39m \u001b[39mself\u001b[39;49m\u001b[39m.\u001b[39;49mrun_epoch(train\u001b[39m=\u001b[39;49m\u001b[39mTrue\u001b[39;49;00m)\n\u001b[1;32m     <a href='file:///home/hendrik/Documents/master_project/Code/MasterProject/model_src/network.py?line=60'>61</a>\u001b[0m     critic_acc \u001b[39m=\u001b[39m debug_dict[\u001b[39m'\u001b[39m\u001b[39mmain critic acc\u001b[39m\u001b[39m'\u001b[39m]\n\u001b[1;32m     <a href='file:///home/hendrik/Documents/master_project/Code/MasterProject/model_src/network.py?line=61'>62</a>\u001b[0m     trj_loss \u001b[39m=\u001b[39m debug_dict[\u001b[39m'\u001b[39m\u001b[39mmain trj loss\u001b[39m\u001b[39m'\u001b[39m]\n",
      "File \u001b[0;32m~/Documents/master_project/Code/MasterProject/model_src/network.py:116\u001b[0m, in \u001b[0;36mNetwork.run_epoch\u001b[0;34m(self, train)\u001b[0m\n\u001b[1;32m    <a href='file:///home/hendrik/Documents/master_project/Code/MasterProject/model_src/network.py?line=111'>112</a>\u001b[0m     losses \u001b[39m=\u001b[39m add_data_to_seq(loss\u001b[39m.\u001b[39mreshape(\u001b[39m-\u001b[39m\u001b[39m1\u001b[39m), losses)\n\u001b[1;32m    <a href='file:///home/hendrik/Documents/master_project/Code/MasterProject/model_src/network.py?line=112'>113</a>\u001b[0m     critic_acc \u001b[39m=\u001b[39m add_data_to_seq(debug_dict[\u001b[39m'\u001b[39m\u001b[39macc\u001b[39m\u001b[39m'\u001b[39m]\u001b[39m.\u001b[39mreshape(\u001b[39m-\u001b[39m\u001b[39m1\u001b[39m), critic_acc)\n\u001b[0;32m--> <a href='file:///home/hendrik/Documents/master_project/Code/MasterProject/model_src/network.py?line=115'>116</a>\u001b[0m loss, debug_dict \u001b[39m=\u001b[39m \u001b[39mself\u001b[39;49m\u001b[39m.\u001b[39;49mstep(succ, train\u001b[39m=\u001b[39;49mtrain, learn_critic\u001b[39m=\u001b[39;49mlearn_critic)\n\u001b[1;32m    <a href='file:///home/hendrik/Documents/master_project/Code/MasterProject/model_src/network.py?line=116'>117</a>\u001b[0m \u001b[39mself\u001b[39m\u001b[39m.\u001b[39mtboard\u001b[39m.\u001b[39mwrite_tboard_scalar(debug_dict\u001b[39m=\u001b[39mdebug_dict, train\u001b[39m=\u001b[39mtrain, step\u001b[39m=\u001b[39m\u001b[39mself\u001b[39m\u001b[39m.\u001b[39mglobal_step, prefix\u001b[39m=\u001b[39m\u001b[39m'\u001b[39m\u001b[39msucc \u001b[39m\u001b[39m'\u001b[39m)\n\u001b[1;32m    <a href='file:///home/hendrik/Documents/master_project/Code/MasterProject/model_src/network.py?line=117'>118</a>\u001b[0m trj_losses \u001b[39m=\u001b[39m add_data_to_seq(debug_dict[\u001b[39m'\u001b[39m\u001b[39mtrj loss\u001b[39m\u001b[39m'\u001b[39m]\u001b[39m.\u001b[39mreshape(\u001b[39m-\u001b[39m\u001b[39m1\u001b[39m), trj_losses)\n",
      "File \u001b[0;32m~/Documents/master_project/Code/MasterProject/model_src/network.py:151\u001b[0m, in \u001b[0;36mNetwork.step\u001b[0;34m(self, inpt, train, learn_critic)\u001b[0m\n\u001b[1;32m    <a href='file:///home/hendrik/Documents/master_project/Code/MasterProject/model_src/network.py?line=148'>149</a>\u001b[0m loss, debug_dict \u001b[39m=\u001b[39m \u001b[39mself\u001b[39m\u001b[39m.\u001b[39mcalculate_loss(result\u001b[39m=\u001b[39m(output_seq, critic_scores), label\u001b[39m=\u001b[39mlabel, succ\u001b[39m=\u001b[39msucc, learn_critic\u001b[39m=\u001b[39mlearn_critic)\n\u001b[1;32m    <a href='file:///home/hendrik/Documents/master_project/Code/MasterProject/model_src/network.py?line=149'>150</a>\u001b[0m \u001b[39mif\u001b[39;00m train:\n\u001b[0;32m--> <a href='file:///home/hendrik/Documents/master_project/Code/MasterProject/model_src/network.py?line=150'>151</a>\u001b[0m     \u001b[39mself\u001b[39;49m\u001b[39m.\u001b[39;49mbackprop(loss)\n\u001b[1;32m    <a href='file:///home/hendrik/Documents/master_project/Code/MasterProject/model_src/network.py?line=151'>152</a>\u001b[0m \u001b[39mreturn\u001b[39;00m loss, debug_dict\n",
      "File \u001b[0;32m~/Documents/master_project/Code/MasterProject/model_src/network.py:141\u001b[0m, in \u001b[0;36mNetwork.backprop\u001b[0;34m(self, loss)\u001b[0m\n\u001b[1;32m    <a href='file:///home/hendrik/Documents/master_project/Code/MasterProject/model_src/network.py?line=138'>139</a>\u001b[0m \u001b[39mfor\u001b[39;00m opt \u001b[39min\u001b[39;00m \u001b[39mself\u001b[39m\u001b[39m.\u001b[39moptimizers:\n\u001b[1;32m    <a href='file:///home/hendrik/Documents/master_project/Code/MasterProject/model_src/network.py?line=139'>140</a>\u001b[0m     opt\u001b[39m.\u001b[39mzero_grad()\n\u001b[0;32m--> <a href='file:///home/hendrik/Documents/master_project/Code/MasterProject/model_src/network.py?line=140'>141</a>\u001b[0m loss\u001b[39m.\u001b[39;49mbackward()\n\u001b[1;32m    <a href='file:///home/hendrik/Documents/master_project/Code/MasterProject/model_src/network.py?line=141'>142</a>\u001b[0m \u001b[39mfor\u001b[39;00m opt \u001b[39min\u001b[39;00m \u001b[39mself\u001b[39m\u001b[39m.\u001b[39moptimizers:\n\u001b[1;32m    <a href='file:///home/hendrik/Documents/master_project/Code/MasterProject/model_src/network.py?line=142'>143</a>\u001b[0m     opt\u001b[39m.\u001b[39mstep()\n",
      "File \u001b[0;32m~/anaconda3/envs/mujoco/lib/python3.8/site-packages/torch/_tensor.py:307\u001b[0m, in \u001b[0;36mTensor.backward\u001b[0;34m(self, gradient, retain_graph, create_graph, inputs)\u001b[0m\n\u001b[1;32m    <a href='file:///home/hendrik/anaconda3/envs/mujoco/lib/python3.8/site-packages/torch/_tensor.py?line=297'>298</a>\u001b[0m \u001b[39mif\u001b[39;00m has_torch_function_unary(\u001b[39mself\u001b[39m):\n\u001b[1;32m    <a href='file:///home/hendrik/anaconda3/envs/mujoco/lib/python3.8/site-packages/torch/_tensor.py?line=298'>299</a>\u001b[0m     \u001b[39mreturn\u001b[39;00m handle_torch_function(\n\u001b[1;32m    <a href='file:///home/hendrik/anaconda3/envs/mujoco/lib/python3.8/site-packages/torch/_tensor.py?line=299'>300</a>\u001b[0m         Tensor\u001b[39m.\u001b[39mbackward,\n\u001b[1;32m    <a href='file:///home/hendrik/anaconda3/envs/mujoco/lib/python3.8/site-packages/torch/_tensor.py?line=300'>301</a>\u001b[0m         (\u001b[39mself\u001b[39m,),\n\u001b[0;32m   (...)\u001b[0m\n\u001b[1;32m    <a href='file:///home/hendrik/anaconda3/envs/mujoco/lib/python3.8/site-packages/torch/_tensor.py?line=304'>305</a>\u001b[0m         create_graph\u001b[39m=\u001b[39mcreate_graph,\n\u001b[1;32m    <a href='file:///home/hendrik/anaconda3/envs/mujoco/lib/python3.8/site-packages/torch/_tensor.py?line=305'>306</a>\u001b[0m         inputs\u001b[39m=\u001b[39minputs)\n\u001b[0;32m--> <a href='file:///home/hendrik/anaconda3/envs/mujoco/lib/python3.8/site-packages/torch/_tensor.py?line=306'>307</a>\u001b[0m torch\u001b[39m.\u001b[39;49mautograd\u001b[39m.\u001b[39;49mbackward(\u001b[39mself\u001b[39;49m, gradient, retain_graph, create_graph, inputs\u001b[39m=\u001b[39;49minputs)\n",
      "File \u001b[0;32m~/anaconda3/envs/mujoco/lib/python3.8/site-packages/torch/autograd/__init__.py:154\u001b[0m, in \u001b[0;36mbackward\u001b[0;34m(tensors, grad_tensors, retain_graph, create_graph, grad_variables, inputs)\u001b[0m\n\u001b[1;32m    <a href='file:///home/hendrik/anaconda3/envs/mujoco/lib/python3.8/site-packages/torch/autograd/__init__.py?line=150'>151</a>\u001b[0m \u001b[39mif\u001b[39;00m retain_graph \u001b[39mis\u001b[39;00m \u001b[39mNone\u001b[39;00m:\n\u001b[1;32m    <a href='file:///home/hendrik/anaconda3/envs/mujoco/lib/python3.8/site-packages/torch/autograd/__init__.py?line=151'>152</a>\u001b[0m     retain_graph \u001b[39m=\u001b[39m create_graph\n\u001b[0;32m--> <a href='file:///home/hendrik/anaconda3/envs/mujoco/lib/python3.8/site-packages/torch/autograd/__init__.py?line=153'>154</a>\u001b[0m Variable\u001b[39m.\u001b[39;49m_execution_engine\u001b[39m.\u001b[39;49mrun_backward(\n\u001b[1;32m    <a href='file:///home/hendrik/anaconda3/envs/mujoco/lib/python3.8/site-packages/torch/autograd/__init__.py?line=154'>155</a>\u001b[0m     tensors, grad_tensors_, retain_graph, create_graph, inputs,\n\u001b[1;32m    <a href='file:///home/hendrik/anaconda3/envs/mujoco/lib/python3.8/site-packages/torch/autograd/__init__.py?line=155'>156</a>\u001b[0m     allow_unreachable\u001b[39m=\u001b[39;49m\u001b[39mTrue\u001b[39;49;00m, accumulate_grad\u001b[39m=\u001b[39;49m\u001b[39mTrue\u001b[39;49;00m)\n",
      "\u001b[0;31mRuntimeError\u001b[0m: CUDA error: CUBLAS_STATUS_INTERNAL_ERROR when calling `cublasSgemm( handle, opa, opb, m, n, k, &alpha, a, lda, b, ldb, &beta, c, ldc)`"
     ]
    },
    {
     "data": {
      "image/png": "[encoded data removed]",
      "text/plain": [
       "<Figure size 432x288 with 12 Axes>"
      ]
     },
     "metadata": {
      "needs_background": "light"
     },
     "output_type": "display_data"
    }
   ],
   "source": [
    "network.train(epochs=100000)"
   ]
  },
  {
   "cell_type": "code",
   "execution_count": null,
   "metadata": {},
   "outputs": [],
   "source": [
    "import gym"
   ]
  },
  {
   "cell_type": "code",
   "execution_count": null,
   "metadata": {},
   "outputs": [
    {
     "name": "stderr",
     "output_type": "stream",
     "text": [
      "/home/hendrik/anaconda3/envs/baselines/lib/python3.7/site-packages/gym/logger.py:30: UserWarning: \u001b[33mWARN: Box bound precision lowered by casting to float32\u001b[0m\n",
      "  warnings.warn(colorize('%s: %s'%('WARN', msg % args), 'yellow'))\n"
     ]
    }
   ],
   "source": [
    "env = gym.make('FetchPickAndPlace-v1')"
   ]
  },
  {
   "cell_type": "code",
   "execution_count": null,
   "metadata": {},
   "outputs": [],
   "source": [
    "result = env.reset()"
   ]
  },
  {
   "cell_type": "code",
   "execution_count": 1,
   "metadata": {},
   "outputs": [],
   "source": [
    "import torch"
   ]
  },
  {
   "cell_type": "code",
   "execution_count": 2,
   "metadata": {},
   "outputs": [],
   "source": [
    "a = torch.tensor([False, False, True])\n",
    "b = torch.tensor([1,2,3]).reshape(-1,1)\n",
    "b = torch.cat((b, b[a]), dim=0)"
   ]
  },
  {
   "cell_type": "code",
   "execution_count": 3,
   "metadata": {},
   "outputs": [
    {
     "data": {
      "text/plain": [
       "tensor([[1],\n",
       "        [2],\n",
       "        [3],\n",
       "        [3]])"
      ]
     },
     "execution_count": 3,
     "metadata": {},
     "output_type": "execute_result"
    }
   ],
   "source": [
    "b"
   ]
  },
  {
   "cell_type": "code",
   "execution_count": 12,
   "metadata": {},
   "outputs": [
    {
     "data": {
      "text/plain": [
       "tensor([[1, 2]])"
      ]
     },
     "execution_count": 12,
     "metadata": {},
     "output_type": "execute_result"
    }
   ],
   "source": [
    "label"
   ]
  },
  {
   "cell_type": "code",
   "execution_count": null,
   "metadata": {},
   "outputs": [],
   "source": []
  }
 ],
 "metadata": {
  "interpreter": {
   "hash": "f6edd83f9b3fcb9454c0e509bb1e55f01736f244b1bbba81ee1367549d9ea0fd"
  },
  "kernelspec": {
   "display_name": "Python 3.8.13 ('mujoco')",
   "language": "python",
   "name": "python3"
  },
  "language_info": {
   "codemirror_mode": {
    "name": "ipython",
    "version": 3
   },
   "file_extension": ".py",
   "mimetype": "text/x-python",
   "name": "python",
   "nbconvert_exporter": "python",
   "pygments_lexer": "ipython3",
   "version": "3.8.13"
  },
  "orig_nbformat": 4
 },
 "nbformat": 4,
 "nbformat_minor": 2
}
